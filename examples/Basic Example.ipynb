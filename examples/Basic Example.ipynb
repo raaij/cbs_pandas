{
 "cells": [
  {
   "cell_type": "code",
   "execution_count": 1,
   "id": "ceb01a6e",
   "metadata": {},
   "outputs": [],
   "source": [
    "from cbs_pandas import Client"
   ]
  },
  {
   "cell_type": "code",
   "execution_count": 2,
   "id": "d6608029",
   "metadata": {},
   "outputs": [],
   "source": [
    "cbs = Client()"
   ]
  },
  {
   "cell_type": "code",
   "execution_count": 3,
   "id": "1aaa6c2b",
   "metadata": {},
   "outputs": [
    {
     "data": {
      "text/html": [
       "<h4>Basiseducatie; deelnemers naar leeftijd, 1993-2006 (<a href=https://opendata.cbs.nl/statline/#/CBS/nl/dataset/00371edu>00371edu</a>)</h4>\n",
       "<p>\n",
       "Deze tabel bevat uitkomsten van deelnemers aan de basiseducatie naar de volgende kenmerken: \n",
       "- leeftijd;\n",
       "- geslacht.\n",
       "\n",
       "Gegevens beschikbaar vanaf: 1993 tot en met 2006.\n",
       "\n",
       "Status van de tabel:\n",
       "Stopgezet.\n",
       "\n",
       "Wijzigingen ten opzichte van de vorige versie:\n",
       "...</p>"
      ],
      "text/plain": [
       "<IPython.core.display.HTML object>"
      ]
     },
     "metadata": {},
     "output_type": "display_data"
    },
    {
     "data": {
      "text/html": [
       "<h4>VAVO; deelnemers, migratieachtergrond, leeftijd (<a href=https://opendata.cbs.nl/statline/#/CBS/nl/dataset/80174ned>80174ned</a>)</h4>\n",
       "<p>Deze tabel bevat gegevens over de deelnemers aan het voortgezet algemeen volwassenenonderwijs (vavo) dat door het Ministerie van Onderwijs, Cultuur en Wetenschap wordt bekostigd, uitgesplitst per onderwijssoort naar leeftijd en migratieachtergrond.\r\n",
       "...</p>"
      ],
      "text/plain": [
       "<IPython.core.display.HTML object>"
      ]
     },
     "metadata": {},
     "output_type": "display_data"
    },
    {
     "data": {
      "text/html": [
       "<h4>VAVO; deelnemers, migratieachtergrond, generatie, woonregio (<a href=https://opendata.cbs.nl/statline/#/CBS/nl/dataset/80173ned>80173ned</a>)</h4>\n",
       "<p>Deze tabel bevat gegevens over de deelnemers aan het voortgezet algemeen volwassenenonderwijs (vavo) dat door het Ministerie van Onderwijs, Cultuur en Wetenschap wordt bekostigd, uitgesplitst per onderwijssoort naar migratieachtergrond, generatie en ...</p>"
      ],
      "text/plain": [
       "<IPython.core.display.HTML object>"
      ]
     },
     "metadata": {},
     "output_type": "display_data"
    },
    {
     "data": {
      "text/html": [
       "<h4>Vakanties; kerncijfers, 1990-2016 (<a href=https://opendata.cbs.nl/statline/#/CBS/nl/dataset/70232ned>70232ned</a>)</h4>\n",
       "<p>\n",
       "Deze tabel bevat informatie over het aantal deelnemers aan vakantie, aantal vakanties, bestemming,  logiesvorm, vervoermiddel en uitgaven voor vakanties.\n",
       "\n",
       "Gegevens beschikbaar van 1990 tot en met 2014.\n",
       "\n",
       "Status van de cijfers. \n",
       "Cijfers zijn definitie...</p>"
      ],
      "text/plain": [
       "<IPython.core.display.HTML object>"
      ]
     },
     "metadata": {},
     "output_type": "display_data"
    },
    {
     "data": {
      "text/html": [
       "<h4>Mbo-cohorten; hoogst behaald diploma, achtergrondkenmerken 2010-2016 (<a href=https://opendata.cbs.nl/statline/#/CBS/nl/dataset/84317NED>84317NED</a>)</h4>\n",
       "<p>\n",
       "Deze tabel bevat cijfers over het hoogst behaalde diploma van mbo-cohorten 2010/’11, 2012/’13, 2014/'15 en 2016/'17. De cijfers geven het hoogst behaalde diploma weer op verschillende peilmomenten, tot maximaal zeven jaar nadat deelnemers zijn gesta...</p>"
      ],
      "text/plain": [
       "<IPython.core.display.HTML object>"
      ]
     },
     "metadata": {},
     "output_type": "display_data"
    }
   ],
   "source": [
    "cbs.search(\"deelnemers leeftijd basiseducatie\")"
   ]
  },
  {
   "cell_type": "code",
   "execution_count": 4,
   "id": "66f804c0",
   "metadata": {},
   "outputs": [],
   "source": [
    "dataset = cbs.get('00371edu')"
   ]
  },
  {
   "cell_type": "code",
   "execution_count": 7,
   "id": "c47d7bdf",
   "metadata": {},
   "outputs": [
    {
     "data": {
      "text/html": [
       "<div>\n",
       "<style scoped>\n",
       "    .dataframe tbody tr th:only-of-type {\n",
       "        vertical-align: middle;\n",
       "    }\n",
       "\n",
       "    .dataframe tbody tr th {\n",
       "        vertical-align: top;\n",
       "    }\n",
       "\n",
       "    .dataframe thead th {\n",
       "        text-align: right;\n",
       "    }\n",
       "</style>\n",
       "<table border=\"1\" class=\"dataframe\">\n",
       "  <thead>\n",
       "    <tr style=\"text-align: right;\">\n",
       "      <th></th>\n",
       "      <th>Id</th>\n",
       "      <th>Measure</th>\n",
       "      <th>ValueAttribute</th>\n",
       "      <th>Value</th>\n",
       "      <th>Geslacht</th>\n",
       "      <th>Leeftijd</th>\n",
       "      <th>Perioden</th>\n",
       "    </tr>\n",
       "  </thead>\n",
       "  <tbody>\n",
       "    <tr>\n",
       "      <th>0</th>\n",
       "      <td>0</td>\n",
       "      <td>M007497</td>\n",
       "      <td>None</td>\n",
       "      <td>145420.0</td>\n",
       "      <td>3</td>\n",
       "      <td>00</td>\n",
       "      <td>1993JJ00</td>\n",
       "    </tr>\n",
       "    <tr>\n",
       "      <th>1</th>\n",
       "      <td>1</td>\n",
       "      <td>M007497</td>\n",
       "      <td>None</td>\n",
       "      <td>138450.0</td>\n",
       "      <td>3</td>\n",
       "      <td>00</td>\n",
       "      <td>1994JJ00</td>\n",
       "    </tr>\n",
       "    <tr>\n",
       "      <th>2</th>\n",
       "      <td>2</td>\n",
       "      <td>M007497</td>\n",
       "      <td>None</td>\n",
       "      <td>125430.0</td>\n",
       "      <td>3</td>\n",
       "      <td>00</td>\n",
       "      <td>1995JJ00</td>\n",
       "    </tr>\n",
       "    <tr>\n",
       "      <th>3</th>\n",
       "      <td>3</td>\n",
       "      <td>M007497</td>\n",
       "      <td>None</td>\n",
       "      <td>117650.0</td>\n",
       "      <td>3</td>\n",
       "      <td>00</td>\n",
       "      <td>1996JJ00</td>\n",
       "    </tr>\n",
       "    <tr>\n",
       "      <th>4</th>\n",
       "      <td>4</td>\n",
       "      <td>M007497</td>\n",
       "      <td>None</td>\n",
       "      <td>109670.0</td>\n",
       "      <td>3</td>\n",
       "      <td>00</td>\n",
       "      <td>1997JJ00</td>\n",
       "    </tr>\n",
       "    <tr>\n",
       "      <th>...</th>\n",
       "      <td>...</td>\n",
       "      <td>...</td>\n",
       "      <td>...</td>\n",
       "      <td>...</td>\n",
       "      <td>...</td>\n",
       "      <td>...</td>\n",
       "      <td>...</td>\n",
       "    </tr>\n",
       "    <tr>\n",
       "      <th>397</th>\n",
       "      <td>397</td>\n",
       "      <td>M007497</td>\n",
       "      <td>None</td>\n",
       "      <td>5700.0</td>\n",
       "      <td>2</td>\n",
       "      <td>60</td>\n",
       "      <td>2000JJ00</td>\n",
       "    </tr>\n",
       "    <tr>\n",
       "      <th>398</th>\n",
       "      <td>398</td>\n",
       "      <td>M007497</td>\n",
       "      <td>None</td>\n",
       "      <td>6570.0</td>\n",
       "      <td>2</td>\n",
       "      <td>60</td>\n",
       "      <td>2001JJ00</td>\n",
       "    </tr>\n",
       "    <tr>\n",
       "      <th>399</th>\n",
       "      <td>399</td>\n",
       "      <td>M007497</td>\n",
       "      <td>None</td>\n",
       "      <td>7520.0</td>\n",
       "      <td>2</td>\n",
       "      <td>60</td>\n",
       "      <td>2002JJ00</td>\n",
       "    </tr>\n",
       "    <tr>\n",
       "      <th>400</th>\n",
       "      <td>400</td>\n",
       "      <td>M007497</td>\n",
       "      <td>None</td>\n",
       "      <td>7300.0</td>\n",
       "      <td>2</td>\n",
       "      <td>60</td>\n",
       "      <td>2003JJ00</td>\n",
       "    </tr>\n",
       "    <tr>\n",
       "      <th>401</th>\n",
       "      <td>401</td>\n",
       "      <td>M007497</td>\n",
       "      <td>None</td>\n",
       "      <td>7260.0</td>\n",
       "      <td>2</td>\n",
       "      <td>60</td>\n",
       "      <td>2004JJ00</td>\n",
       "    </tr>\n",
       "  </tbody>\n",
       "</table>\n",
       "<p>402 rows × 7 columns</p>\n",
       "</div>"
      ],
      "text/plain": [
       "      Id  Measure ValueAttribute     Value Geslacht Leeftijd  Perioden\n",
       "0      0  M007497           None  145420.0        3       00  1993JJ00\n",
       "1      1  M007497           None  138450.0        3       00  1994JJ00\n",
       "2      2  M007497           None  125430.0        3       00  1995JJ00\n",
       "3      3  M007497           None  117650.0        3       00  1996JJ00\n",
       "4      4  M007497           None  109670.0        3       00  1997JJ00\n",
       "..   ...      ...            ...       ...      ...      ...       ...\n",
       "397  397  M007497           None    5700.0        2       60  2000JJ00\n",
       "398  398  M007497           None    6570.0        2       60  2001JJ00\n",
       "399  399  M007497           None    7520.0        2       60  2002JJ00\n",
       "400  400  M007497           None    7300.0        2       60  2003JJ00\n",
       "401  401  M007497           None    7260.0        2       60  2004JJ00\n",
       "\n",
       "[402 rows x 7 columns]"
      ]
     },
     "execution_count": 7,
     "metadata": {},
     "output_type": "execute_result"
    }
   ],
   "source": [
    "dataset.df"
   ]
  },
  {
   "cell_type": "code",
   "execution_count": null,
   "id": "d170e425",
   "metadata": {},
   "outputs": [],
   "source": []
  }
 ],
 "metadata": {
  "kernelspec": {
   "display_name": "Python 3 (ipykernel)",
   "language": "python",
   "name": "python3"
  },
  "language_info": {
   "codemirror_mode": {
    "name": "ipython",
    "version": 3
   },
   "file_extension": ".py",
   "mimetype": "text/x-python",
   "name": "python",
   "nbconvert_exporter": "python",
   "pygments_lexer": "ipython3",
   "version": "3.8.13"
  }
 },
 "nbformat": 4,
 "nbformat_minor": 5
}
